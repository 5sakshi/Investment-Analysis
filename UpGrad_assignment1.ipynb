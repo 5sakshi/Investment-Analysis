{
 "cells": [
  {
   "cell_type": "code",
   "execution_count": 116,
   "metadata": {},
   "outputs": [],
   "source": [
    "import pandas as pd\n",
    "import numpy as np\n",
    "import matplotlib.pyplot as plt\n",
    "import seaborn as sns\n",
    "\n",
    "\n",
    "#reading files into jupyter console\n",
    "rounds2 = pd.read_csv('C:/Users/gupta/Downloads/UpGrad_AI_ML/Assignment/rounds2.csv', encoding = 'ISO-8859-1')\n",
    "companies = pd.read_csv('C:/Users/gupta/Downloads/UpGrad_AI_ML/Assignment/companies.txt', sep = '\\t', encoding = 'ISO-8859-1')\n"
   ]
  },
  {
   "cell_type": "code",
   "execution_count": 117,
   "metadata": {},
   "outputs": [
    {
     "name": "stdout",
     "output_type": "stream",
     "text": [
      "unique company name in \"rounds2\" df 90247\n",
      "unique company name in \"companies\" df 66102\n"
     ]
    }
   ],
   "source": [
    "#unique companies present in rounds2\n",
    "print('unique company name in \"rounds2\" df',rounds2.company_permalink.nunique())\n",
    "\n",
    "\n",
    "#unique companies present in companies\n",
    "print('unique company name in \"companies\" df',companies.name.nunique())"
   ]
  },
  {
   "cell_type": "code",
   "execution_count": 118,
   "metadata": {},
   "outputs": [
    {
     "data": {
      "text/plain": [
       "0                                      /Organization/-Fame\n",
       "1                                   /Organization/-Qounter\n",
       "2                      /Organization/-The-One-Of-Them-Inc-\n",
       "3                                    /Organization/0-6-Com\n",
       "4                           /Organization/004-Technologies\n",
       "5                         /Organization/01Games-Technology\n",
       "6                      /Organization/0Ndine-Biomedical-Inc\n",
       "7                                     /Organization/0Xdata\n",
       "8                                          /Organization/1\n",
       "9                                /Organization/1-2-3-Listo\n",
       "10                                   /Organization/1-4-All\n",
       "11                          /Organization/1-618-Technology\n",
       "12                             /Organization/1-800-Dentist\n",
       "13                             /Organization/1-800-Doctors\n",
       "14                /Organization/1-800-Publicrelations-Inc-\n",
       "15                              /Organization/1-Mainstream\n",
       "16                                   /Organization/1-Of-99\n",
       "17                               /Organization/10-20-Media\n",
       "18                           /Organization/10-Minutes-With\n",
       "19                                /Organization/1000-Corks\n",
       "20                              /Organization/1000-Markets\n",
       "21                                   /Organization/1000Chi\n",
       "22                                 /Organization/1000Lookz\n",
       "23                              /Organization/1000Memories\n",
       "24                           /Organization/1000Museums-Com\n",
       "25                                /Organization/1001-Menus\n",
       "26                        /Organization/1001Pharmacies-Com\n",
       "27                                   /Organization/1006-Tv\n",
       "28                                  /Organization/100Du-Tv\n",
       "29                                  /Organization/100E-Com\n",
       "                               ...                        \n",
       "66338                                  /Organization/Zykis\n",
       "66339                         /Organization/Zylie-The-Bear\n",
       "66340                         /Organization/Zylun-Staffing\n",
       "66341                         /Organization/Zyme-Solutions\n",
       "66342                               /Organization/Zymergen\n",
       "66343                                /Organization/Zymetis\n",
       "66344                              /Organization/Zymeworks\n",
       "66345                               /Organization/Zymochem\n",
       "66346                                  /Organization/Zympi\n",
       "66347                              /Organization/Zymr-Inc-\n",
       "66348                                  /Organization/Zyncd\n",
       "66349                                 /Organization/Zyncro\n",
       "66350                /Organization/Zynerba-Pharmaceuticals\n",
       "66351              /Organization/Zynergy-Projects-Services\n",
       "66352                                  /Organization/Zynga\n",
       "66353                               /Organization/Zyngenia\n",
       "66354                                /Organization/Zynstra\n",
       "66355                             /Organization/Zyomyx-Inc\n",
       "66356                                   /Organization/Zype\n",
       "66357                                 /Organization/Zypsee\n",
       "66358                       /Organization/Zyraz-Technology\n",
       "66359                                  /Organization/Zyrra\n",
       "66360                                 /Organization/Zystor\n",
       "66361                             /Organization/Zytoprotec\n",
       "66362                                  /Organization/Zzish\n",
       "66363    /Organization/Zznode-Science-And-Technology-Co...\n",
       "66364                            /Organization/Zzzzapp-Com\n",
       "66365                                 /Organization/ÃEron\n",
       "66366                               /Organization/ÃAsys-2\n",
       "66367    /Organization/Ä°Novatiff-Reklam-Ve-Tanä±Tä±M-H...\n",
       "Name: permalink, Length: 66368, dtype: object"
      ]
     },
     "execution_count": 118,
     "metadata": {},
     "output_type": "execute_result"
    }
   ],
   "source": [
    "#In the companies data frame, which column can be used as the unique key for each company?\n",
    "companies.permalink"
   ]
  },
  {
   "cell_type": "code",
   "execution_count": 119,
   "metadata": {},
   "outputs": [
    {
     "name": "stdout",
     "output_type": "stream",
     "text": [
      "Y\n"
     ]
    }
   ],
   "source": [
    "#Are there any companies in the rounds2 file which are not present in companies?\n",
    "if rounds2.equals(companies):\n",
    "    print('N')\n",
    "else:\n",
    "    print('Y')"
   ]
  },
  {
   "cell_type": "code",
   "execution_count": 120,
   "metadata": {},
   "outputs": [],
   "source": [
    "#converting all values in rounds2 and companies to lower case\n",
    "\n",
    "rounds2['company_permalink']= rounds2['company_permalink'].apply(lambda x: x.lower())\n",
    "companies['permalink']= companies['permalink'].apply(lambda x: x.lower())"
   ]
  },
  {
   "cell_type": "code",
   "execution_count": 121,
   "metadata": {},
   "outputs": [
    {
     "data": {
      "text/plain": [
       "114942"
      ]
     },
     "execution_count": 121,
     "metadata": {},
     "output_type": "execute_result"
    }
   ],
   "source": [
    "#Merge the two data frames\n",
    "master_frame = pd.merge(rounds2,companies, left_on='company_permalink', right_on='permalink', how='inner')\n",
    "\n",
    "#How many observations are present in master_frame?\n",
    "len(master_frame)"
   ]
  },
  {
   "cell_type": "code",
   "execution_count": 122,
   "metadata": {},
   "outputs": [],
   "source": [
    "#Cleaning the master_frame data "
   ]
  },
  {
   "cell_type": "code",
   "execution_count": 123,
   "metadata": {},
   "outputs": [
    {
     "data": {
      "text/plain": [
       "company_permalink              0\n",
       "funding_round_permalink        0\n",
       "funding_round_type             0\n",
       "funding_round_code         83803\n",
       "funded_at                      0\n",
       "raised_amount_usd          19984\n",
       "permalink                      0\n",
       "name                           1\n",
       "homepage_url                6132\n",
       "category_list               3407\n",
       "status                         0\n",
       "country_code                8671\n",
       "state_code                 10939\n",
       "region                     10160\n",
       "city                       10157\n",
       "founded_at                 20520\n",
       "dtype: int64"
      ]
     },
     "execution_count": 123,
     "metadata": {},
     "output_type": "execute_result"
    }
   ],
   "source": [
    "master_frame.isnull().sum()"
   ]
  },
  {
   "cell_type": "code",
   "execution_count": 124,
   "metadata": {},
   "outputs": [
    {
     "data": {
      "text/plain": [
       "company_permalink          False\n",
       "funding_round_permalink    False\n",
       "funding_round_type         False\n",
       "funding_round_code          True\n",
       "funded_at                  False\n",
       "raised_amount_usd           True\n",
       "permalink                  False\n",
       "name                        True\n",
       "homepage_url                True\n",
       "category_list               True\n",
       "status                     False\n",
       "country_code                True\n",
       "state_code                  True\n",
       "region                      True\n",
       "city                        True\n",
       "founded_at                  True\n",
       "dtype: bool"
      ]
     },
     "execution_count": 124,
     "metadata": {},
     "output_type": "execute_result"
    }
   ],
   "source": [
    "master_frame.isnull().any(axis = 0)"
   ]
  },
  {
   "cell_type": "code",
   "execution_count": 125,
   "metadata": {},
   "outputs": [
    {
     "data": {
      "text/plain": [
       "company_permalink           0.00\n",
       "funding_round_permalink     0.00\n",
       "funding_round_type          0.00\n",
       "funding_round_code         72.91\n",
       "funded_at                   0.00\n",
       "raised_amount_usd          17.39\n",
       "permalink                   0.00\n",
       "name                        0.00\n",
       "homepage_url                5.33\n",
       "category_list               2.96\n",
       "status                      0.00\n",
       "country_code                7.54\n",
       "state_code                  9.52\n",
       "region                      8.84\n",
       "city                        8.84\n",
       "founded_at                 17.85\n",
       "dtype: float64"
      ]
     },
     "execution_count": 125,
     "metadata": {},
     "output_type": "execute_result"
    }
   ],
   "source": [
    "round(100*(master_frame.isnull().sum()/len(master_frame.index)), 2)"
   ]
  },
  {
   "cell_type": "code",
   "execution_count": 126,
   "metadata": {},
   "outputs": [
    {
     "data": {
      "text/plain": [
       "company_permalink           0.00\n",
       "funding_round_permalink     0.00\n",
       "funding_round_type          0.00\n",
       "funded_at                   0.00\n",
       "raised_amount_usd          17.39\n",
       "permalink                   0.00\n",
       "name                        0.00\n",
       "homepage_url                5.33\n",
       "category_list               2.96\n",
       "status                      0.00\n",
       "country_code                7.54\n",
       "state_code                  9.52\n",
       "region                      8.84\n",
       "city                        8.84\n",
       "founded_at                 17.85\n",
       "dtype: float64"
      ]
     },
     "execution_count": 126,
     "metadata": {},
     "output_type": "execute_result"
    }
   ],
   "source": [
    "#Removing funding_round_code column as missing values are greater than 70%\n",
    "master_frame = master_frame.drop('funding_round_code', axis = 1)\n",
    "master_frame.dropna(0)\n",
    "\n",
    "\n",
    "round(100*(master_frame.isnull().sum()/len(master_frame.index)), 2)"
   ]
  },
  {
   "cell_type": "code",
   "execution_count": 127,
   "metadata": {},
   "outputs": [
    {
     "data": {
      "text/plain": [
       "2825"
      ]
     },
     "execution_count": 127,
     "metadata": {},
     "output_type": "execute_result"
    }
   ],
   "source": [
    "#counting the number of columns with more than 5 null values\n",
    "len(master_frame[master_frame.isnull().sum(axis=1) > 5].index)"
   ]
  },
  {
   "cell_type": "code",
   "execution_count": 128,
   "metadata": {},
   "outputs": [
    {
     "data": {
      "text/plain": [
       "2.4577613057020065"
      ]
     },
     "execution_count": 128,
     "metadata": {},
     "output_type": "execute_result"
    }
   ],
   "source": [
    "#calculating the percentage of the values having null\n",
    "100*(len(master_frame[master_frame.isnull().sum(axis=1) > 5].index) / len(master_frame.index))\n"
   ]
  },
  {
   "cell_type": "code",
   "execution_count": 129,
   "metadata": {},
   "outputs": [
    {
     "data": {
      "text/plain": [
       "company_permalink           0.00\n",
       "funding_round_permalink     0.00\n",
       "funding_round_type          0.00\n",
       "funded_at                   0.00\n",
       "raised_amount_usd          16.14\n",
       "permalink                   0.00\n",
       "name                        0.00\n",
       "homepage_url                4.18\n",
       "category_list               1.66\n",
       "status                      0.00\n",
       "country_code                5.24\n",
       "state_code                  7.24\n",
       "region                      6.54\n",
       "city                        6.54\n",
       "founded_at                 16.23\n",
       "dtype: float64"
      ]
     },
     "execution_count": 129,
     "metadata": {},
     "output_type": "execute_result"
    }
   ],
   "source": [
    "#retaining the rows having <= 5 Null \n",
    "master_frame = master_frame[master_frame.isnull().sum(axis = 1) <= 5]\n",
    "\n",
    "round(100*(master_frame.isnull().sum()/len(master_frame.index)), 2)"
   ]
  },
  {
   "cell_type": "code",
   "execution_count": 130,
   "metadata": {},
   "outputs": [
    {
     "data": {
      "text/plain": [
       "18092"
      ]
     },
     "execution_count": 130,
     "metadata": {},
     "output_type": "execute_result"
    }
   ],
   "source": [
    "master_frame.raised_amount_usd.isnull().sum()"
   ]
  },
  {
   "cell_type": "code",
   "execution_count": 131,
   "metadata": {},
   "outputs": [
    {
     "data": {
      "text/plain": [
       "company_permalink           0.00\n",
       "funding_round_permalink     0.00\n",
       "funding_round_type          0.00\n",
       "funded_at                   0.00\n",
       "raised_amount_usd           0.00\n",
       "permalink                   0.00\n",
       "name                        0.00\n",
       "homepage_url                3.50\n",
       "category_list               0.75\n",
       "status                      0.00\n",
       "country_code                5.34\n",
       "state_code                  7.28\n",
       "region                      6.64\n",
       "city                        6.63\n",
       "founded_at                 15.91\n",
       "dtype: float64"
      ]
     },
     "execution_count": 131,
     "metadata": {},
     "output_type": "execute_result"
    }
   ],
   "source": [
    "#keeping rows only with four funding_round_type values\n",
    "master_frame = master_frame[(master_frame.funding_round_type == \"venture\") | \n",
    "        (master_frame.funding_round_type == \"angel\") | \n",
    "        (master_frame.funding_round_type == \"seed\") | \n",
    "        (master_frame.funding_round_type == \"private_equity\") ]\n",
    "\n",
    "#removing NaN raised_amount_usd rows\n",
    "master_frame = master_frame[~np.isnan(master_frame['raised_amount_usd'])]\n",
    "\n",
    "round(100*(master_frame.isnull().sum()/len(master_frame.index)), 2)"
   ]
  },
  {
   "cell_type": "code",
   "execution_count": 132,
   "metadata": {},
   "outputs": [
    {
     "data": {
      "image/png": "[encoded data removed]",
      "text/plain": [
       "<matplotlib.figure.Figure at 0xd81c1a8b70>"
      ]
     },
     "metadata": {},
     "output_type": "display_data"
    }
   ],
   "source": [
    "# comparing summary stats across four categories\n",
    "sns.boxplot(x='funding_round_type', y='raised_amount_usd', data=master_frame)\n",
    "plt.yscale('log')\n",
    "plt.show()"
   ]
  },
  {
   "cell_type": "markdown",
   "metadata": {},
   "source": [
    "# checkpoint 2"
   ]
  },
  {
   "cell_type": "code",
   "execution_count": 133,
   "metadata": {},
   "outputs": [
    {
     "name": "stdout",
     "output_type": "stream",
     "text": [
      "funding_round_type\n",
      "angel               959636.43\n",
      "private_equity    73086734.51\n",
      "seed                724314.80\n",
      "venture           11720929.66\n",
      "Name: raised_amount_usd, dtype: float64\n"
     ]
    }
   ],
   "source": [
    "#calculating mean for 4 types of funding_round_type\n",
    "data_mean = round(master_frame.groupby('funding_round_type')['raised_amount_usd'].mean(),2)\n",
    "print(data_mean)"
   ]
  },
  {
   "cell_type": "code",
   "execution_count": 134,
   "metadata": {},
   "outputs": [],
   "source": [
    "#Based on the criteria of fund limit 5 to 15 million usd\n",
    "\n",
    "#investment_type = data_mean[data_mean['funding_amount_type'] >= 500000 & data_mean['funding_amount_type'] <= 1500000]"
   ]
  },
  {
   "cell_type": "markdown",
   "metadata": {},
   "source": [
    "# checkpoint 3"
   ]
  },
  {
   "cell_type": "code",
   "execution_count": 135,
   "metadata": {},
   "outputs": [],
   "source": [
    "sorted_frame = master_frame.sort_values('raised_amount_usd',ascending=False)\n",
    "#sorted_frame = sorted_frame.groupby('funding_round_type')"
   ]
  },
  {
   "cell_type": "code",
   "execution_count": 136,
   "metadata": {},
   "outputs": [
    {
     "data": {
      "text/plain": [
       "<pandas.core.groupby.DataFrameGroupBy object at 0x000000D81704D828>"
      ]
     },
     "execution_count": 136,
     "metadata": {},
     "output_type": "execute_result"
    }
   ],
   "source": [
    "sorted_frame.groupby('country_code')"
   ]
  },
  {
   "cell_type": "code",
   "execution_count": 137,
   "metadata": {},
   "outputs": [
    {
     "data": {
      "text/plain": [
       "['USA',\n",
       " 'CHN',\n",
       " 'RUS',\n",
       " 'IND',\n",
       " 'KOR',\n",
       " nan,\n",
       " 'GBR',\n",
       " 'GRD',\n",
       " 'NLD',\n",
       " 'BRA',\n",
       " 'JPN',\n",
       " 'BMU',\n",
       " 'SWE',\n",
       " 'FRA',\n",
       " 'IDN',\n",
       " 'ESP',\n",
       " 'DEU',\n",
       " 'AUS',\n",
       " 'SGP',\n",
       " 'CAN',\n",
       " 'NOR',\n",
       " 'ZAF',\n",
       " 'MYS',\n",
       " 'TWN',\n",
       " 'ARE',\n",
       " 'LUX',\n",
       " 'NZL',\n",
       " 'CHE',\n",
       " 'EGY',\n",
       " 'ISR',\n",
       " 'AUT',\n",
       " 'NGA',\n",
       " 'DNK',\n",
       " 'KEN',\n",
       " 'PHL',\n",
       " 'FIN',\n",
       " 'IRL',\n",
       " 'BEL',\n",
       " 'VNM',\n",
       " 'MEX',\n",
       " 'HKG',\n",
       " 'CZE',\n",
       " 'TUR',\n",
       " 'CYM',\n",
       " 'ITA',\n",
       " 'PAK',\n",
       " 'POL',\n",
       " 'PRT',\n",
       " 'MUS',\n",
       " 'COL',\n",
       " 'ARG',\n",
       " 'ISL',\n",
       " 'LTU',\n",
       " 'CYP',\n",
       " 'THA',\n",
       " 'TAN',\n",
       " 'ARM',\n",
       " 'GHA',\n",
       " 'KNA',\n",
       " 'PAN',\n",
       " 'MAF',\n",
       " 'KWT',\n",
       " 'GIB',\n",
       " 'MNE',\n",
       " 'MLT',\n",
       " 'SVN',\n",
       " 'CHL',\n",
       " 'EST',\n",
       " 'JOR',\n",
       " 'URY',\n",
       " 'BGR',\n",
       " 'BAH',\n",
       " 'HUN',\n",
       " 'LIE',\n",
       " 'KAZ',\n",
       " 'LVA',\n",
       " 'BGD',\n",
       " 'ROM',\n",
       " 'UKR',\n",
       " 'GRC',\n",
       " 'SVK',\n",
       " 'TTO',\n",
       " 'GGY',\n",
       " 'TUN',\n",
       " 'SRB',\n",
       " 'SEN',\n",
       " 'NIC',\n",
       " 'UGA',\n",
       " 'LAO',\n",
       " 'PER',\n",
       " 'SOM',\n",
       " 'MAR',\n",
       " 'LBN',\n",
       " 'BWA',\n",
       " 'BRB',\n",
       " 'IRN',\n",
       " 'HRV',\n",
       " 'PRI',\n",
       " 'JAM',\n",
       " 'ECU',\n",
       " 'MCO',\n",
       " 'SAU',\n",
       " 'ZMB',\n",
       " 'MMR',\n",
       " 'CRI',\n",
       " 'KHM',\n",
       " 'VEN',\n",
       " 'DZA',\n",
       " 'BLM',\n",
       " 'BHR',\n",
       " 'GTM',\n",
       " 'DOM',\n",
       " 'CMR',\n",
       " 'NPL',\n",
       " 'SLV',\n",
       " 'AZE',\n",
       " 'QAT',\n",
       " 'ALB',\n",
       " 'RWA',\n",
       " 'DMA',\n",
       " 'UZB',\n",
       " 'BLR',\n",
       " 'CIV',\n",
       " 'MDA',\n",
       " 'MKD',\n",
       " 'SYC',\n",
       " 'LKA',\n",
       " 'ZWE',\n",
       " 'GEO',\n",
       " 'PRY',\n",
       " 'PSE',\n",
       " 'HND']"
      ]
     },
     "execution_count": 137,
     "metadata": {},
     "output_type": "execute_result"
    }
   ],
   "source": [
    "sorted_frame['country_code'].unique().tolist()\n"
   ]
  },
  {
   "cell_type": "markdown",
   "metadata": {},
   "source": [
    "# checkpoint 4"
   ]
  },
  {
   "cell_type": "code",
   "execution_count": 138,
   "metadata": {},
   "outputs": [],
   "source": [
    "#adding column primary sector in our dataframe\n",
    "list1 = companies['category_list'].str.split('|',n = 1,expand = True)\n",
    "master_frame['primary_sector'] = list1[0]"
   ]
  },
  {
   "cell_type": "code",
   "execution_count": 139,
   "metadata": {},
   "outputs": [],
   "source": [
    "mapping = pd.read_csv(r'C:\\Users\\gupta\\Downloads\\UpGrad_AI_ML\\Assignment\\mapping.csv')"
   ]
  },
  {
   "cell_type": "code",
   "execution_count": 140,
   "metadata": {},
   "outputs": [],
   "source": [
    "#reverse encoding the mapping file and adding as main sector\n",
    "def reverse_encoding(x):\n",
    "    for i in mapping.columns:\n",
    "        if x[i] == 1:\n",
    "            return i"
   ]
  },
  {
   "cell_type": "code",
   "execution_count": 141,
   "metadata": {},
   "outputs": [],
   "source": [
    "master_frame['main_sector'] = mapping.apply(reverse_encoding, axis = 1)"
   ]
  },
  {
   "cell_type": "markdown",
   "metadata": {},
   "source": [
    "# checkpoint 5"
   ]
  },
  {
   "cell_type": "code",
   "execution_count": null,
   "metadata": {},
   "outputs": [],
   "source": [
    "D1 = "
   ]
  },
  {
   "cell_type": "code",
   "execution_count": 147,
   "metadata": {},
   "outputs": [
    {
     "ename": "NameError",
     "evalue": "name 'os' is not defined",
     "output_type": "error",
     "traceback": [
      "\u001b[1;31m---------------------------------------------------------------------------\u001b[0m",
      "\u001b[1;31mNameError\u001b[0m                                 Traceback (most recent call last)",
      "\u001b[1;32m<ipython-input-147-45cb3cbe1d3c>\u001b[0m in \u001b[0;36m<module>\u001b[1;34m()\u001b[0m\n\u001b[0;32m      1\u001b[0m \u001b[1;32mimport\u001b[0m \u001b[0msys\u001b[0m\u001b[1;33m\u001b[0m\u001b[0m\n\u001b[0;32m      2\u001b[0m \u001b[1;33m\u001b[0m\u001b[0m\n\u001b[1;32m----> 3\u001b[1;33m \u001b[0mos\u001b[0m\u001b[1;33m.\u001b[0m\u001b[0mgetcwd\u001b[0m\u001b[1;33m(\u001b[0m\u001b[1;33m)\u001b[0m\u001b[1;33m\u001b[0m\u001b[0m\n\u001b[0m",
      "\u001b[1;31mNameError\u001b[0m: name 'os' is not defined"
     ]
    }
   ],
   "source": [
    "import sys\n",
    "\n",
    "os.getcwd()"
   ]
  },
  {
   "cell_type": "code",
   "execution_count": null,
   "metadata": {},
   "outputs": [],
   "source": []
  }
 ],
 "metadata": {
  "kernelspec": {
   "display_name": "Python 3",
   "language": "python",
   "name": "python3"
  },
  "language_info": {
   "codemirror_mode": {
    "name": "ipython",
    "version": 3
   },
   "file_extension": ".py",
   "mimetype": "text/x-python",
   "name": "python",
   "nbconvert_exporter": "python",
   "pygments_lexer": "ipython3",
   "version": "3.6.4"
  }
 },
 "nbformat": 4,
 "nbformat_minor": 2
}
